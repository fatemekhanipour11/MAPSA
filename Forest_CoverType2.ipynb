{
  "nbformat": 4,
  "nbformat_minor": 0,
  "metadata": {
    "colab": {
      "provenance": []
    },
    "kernelspec": {
      "name": "python3",
      "display_name": "Python 3"
    },
    "language_info": {
      "name": "python"
    }
  },
  "cells": [
    {
      "cell_type": "code",
      "source": [
        "import tensorflow as tf\n",
        "import pandas as pd\n",
        "from tensorflow import keras\n",
        "import matplotlib.pyplot as plt\n",
        "import seaborn as sns\n",
        "import keras\n",
        "from keras import layers\n",
        "import numpy as np"
      ],
      "metadata": {
        "id": "PBYG6Sz8zfEj"
      },
      "execution_count": 3,
      "outputs": []
    },
    {
      "cell_type": "code",
      "source": [
        "from keras.utils import FeatureSpace\n",
        "from keras.utils import to_categorical"
      ],
      "metadata": {
        "id": "f25YkP_WziGE"
      },
      "execution_count": 4,
      "outputs": []
    },
    {
      "cell_type": "code",
      "source": [
        "data1 =pd.read_csv('/content/drive/MyDrive/eiiid/covtype.data')"
      ],
      "metadata": {
        "id": "HpiEodl0Wwkw"
      },
      "execution_count": 33,
      "outputs": []
    },
    {
      "cell_type": "code",
      "source": [
        "feature_names = ['Elevation', 'Aspect', 'Slope', 'Horizontal_Distance_To_Hydrology', 'Vertical_Distance_To_Hydrology', 'Horizontal_Distance_To_Roadways', \n",
        "                 'Hillshade_9am', 'Hillshade_Noon', 'Hillshade_3pm', 'Horizontal_Distance_To_Fire_Points', 'Wilderness_Area1', 'Wilderness_Area2', \n",
        "                'Wilderness_Area3', 'Wilderness_Area4', 'Soil_Type1', 'Soil_Type2', 'Soil_Type3', 'Soil_Type4', 'Soil_Type5', 'Soil_Type6', 'Soil_Type7',\n",
        "                'Soil_Type8', 'Soil_Type9', 'Soil_Type10', 'Soil_Type11', 'Soil_Type12', 'Soil_Type13', 'Soil_Type14', 'Soil_Type15', 'Soil_Type16', \n",
        "                 'Soil_Type17', 'Soil_Type18', 'Soil_Type19', 'Soil_Type20', 'Soil_Type21', 'Soil_Type22', 'Soil_Type23', 'Soil_Type24', 'Soil_Type25', \n",
        "                 'Soil_Type26', 'Soil_Type27', 'Soil_Type28', 'Soil_Type29', 'Soil_Type30', 'Soil_Type31', 'Soil_Type32', 'Soil_Type33', 'Soil_Type34', \n",
        "                 'Soil_Type35', 'Soil_Type36', 'Soil_Type37', 'Soil_Type38', 'Soil_Type39', 'Soil_Type40', 'Cover_Type']"
      ],
      "metadata": {
        "id": "Je6nkFKeWz-0"
      },
      "execution_count": 34,
      "outputs": []
    },
    {
      "cell_type": "code",
      "source": [
        "data1.columns = feature_names"
      ],
      "metadata": {
        "id": "__q8T6KYW6Kd"
      },
      "execution_count": 35,
      "outputs": []
    },
    {
      "cell_type": "code",
      "source": [
        "data1.head(5)"
      ],
      "metadata": {
        "colab": {
          "base_uri": "https://localhost:8080/",
          "height": 300
        },
        "id": "Tm7werrbW-Hk",
        "outputId": "11f263bf-3101-4fea-9169-67599acdb601"
      },
      "execution_count": 36,
      "outputs": [
        {
          "output_type": "execute_result",
          "data": {
            "text/plain": [
              "   Elevation  Aspect  Slope  Horizontal_Distance_To_Hydrology  \\\n",
              "0       2590      56      2                               212   \n",
              "1       2804     139      9                               268   \n",
              "2       2785     155     18                               242   \n",
              "3       2595      45      2                               153   \n",
              "4       2579     132      6                               300   \n",
              "\n",
              "   Vertical_Distance_To_Hydrology  Horizontal_Distance_To_Roadways  \\\n",
              "0                              -6                              390   \n",
              "1                              65                             3180   \n",
              "2                             118                             3090   \n",
              "3                              -1                              391   \n",
              "4                             -15                               67   \n",
              "\n",
              "   Hillshade_9am  Hillshade_Noon  Hillshade_3pm  \\\n",
              "0            220             235            151   \n",
              "1            234             238            135   \n",
              "2            238             238            122   \n",
              "3            220             234            150   \n",
              "4            230             237            140   \n",
              "\n",
              "   Horizontal_Distance_To_Fire_Points  ...  Soil_Type32  Soil_Type33  \\\n",
              "0                                6225  ...            0            0   \n",
              "1                                6121  ...            0            0   \n",
              "2                                6211  ...            0            0   \n",
              "3                                6172  ...            0            0   \n",
              "4                                6031  ...            0            0   \n",
              "\n",
              "   Soil_Type34  Soil_Type35  Soil_Type36  Soil_Type37  Soil_Type38  \\\n",
              "0            0            0            0            0            0   \n",
              "1            0            0            0            0            0   \n",
              "2            0            0            0            0            0   \n",
              "3            0            0            0            0            0   \n",
              "4            0            0            0            0            0   \n",
              "\n",
              "   Soil_Type39  Soil_Type40  Cover_Type  \n",
              "0            0            0           5  \n",
              "1            0            0           2  \n",
              "2            0            0           2  \n",
              "3            0            0           5  \n",
              "4            0            0           2  \n",
              "\n",
              "[5 rows x 55 columns]"
            ],
            "text/html": [
              "\n",
              "  <div id=\"df-110c041a-2a44-4212-b07f-4f0cdf787606\">\n",
              "    <div class=\"colab-df-container\">\n",
              "      <div>\n",
              "<style scoped>\n",
              "    .dataframe tbody tr th:only-of-type {\n",
              "        vertical-align: middle;\n",
              "    }\n",
              "\n",
              "    .dataframe tbody tr th {\n",
              "        vertical-align: top;\n",
              "    }\n",
              "\n",
              "    .dataframe thead th {\n",
              "        text-align: right;\n",
              "    }\n",
              "</style>\n",
              "<table border=\"1\" class=\"dataframe\">\n",
              "  <thead>\n",
              "    <tr style=\"text-align: right;\">\n",
              "      <th></th>\n",
              "      <th>Elevation</th>\n",
              "      <th>Aspect</th>\n",
              "      <th>Slope</th>\n",
              "      <th>Horizontal_Distance_To_Hydrology</th>\n",
              "      <th>Vertical_Distance_To_Hydrology</th>\n",
              "      <th>Horizontal_Distance_To_Roadways</th>\n",
              "      <th>Hillshade_9am</th>\n",
              "      <th>Hillshade_Noon</th>\n",
              "      <th>Hillshade_3pm</th>\n",
              "      <th>Horizontal_Distance_To_Fire_Points</th>\n",
              "      <th>...</th>\n",
              "      <th>Soil_Type32</th>\n",
              "      <th>Soil_Type33</th>\n",
              "      <th>Soil_Type34</th>\n",
              "      <th>Soil_Type35</th>\n",
              "      <th>Soil_Type36</th>\n",
              "      <th>Soil_Type37</th>\n",
              "      <th>Soil_Type38</th>\n",
              "      <th>Soil_Type39</th>\n",
              "      <th>Soil_Type40</th>\n",
              "      <th>Cover_Type</th>\n",
              "    </tr>\n",
              "  </thead>\n",
              "  <tbody>\n",
              "    <tr>\n",
              "      <th>0</th>\n",
              "      <td>2590</td>\n",
              "      <td>56</td>\n",
              "      <td>2</td>\n",
              "      <td>212</td>\n",
              "      <td>-6</td>\n",
              "      <td>390</td>\n",
              "      <td>220</td>\n",
              "      <td>235</td>\n",
              "      <td>151</td>\n",
              "      <td>6225</td>\n",
              "      <td>...</td>\n",
              "      <td>0</td>\n",
              "      <td>0</td>\n",
              "      <td>0</td>\n",
              "      <td>0</td>\n",
              "      <td>0</td>\n",
              "      <td>0</td>\n",
              "      <td>0</td>\n",
              "      <td>0</td>\n",
              "      <td>0</td>\n",
              "      <td>5</td>\n",
              "    </tr>\n",
              "    <tr>\n",
              "      <th>1</th>\n",
              "      <td>2804</td>\n",
              "      <td>139</td>\n",
              "      <td>9</td>\n",
              "      <td>268</td>\n",
              "      <td>65</td>\n",
              "      <td>3180</td>\n",
              "      <td>234</td>\n",
              "      <td>238</td>\n",
              "      <td>135</td>\n",
              "      <td>6121</td>\n",
              "      <td>...</td>\n",
              "      <td>0</td>\n",
              "      <td>0</td>\n",
              "      <td>0</td>\n",
              "      <td>0</td>\n",
              "      <td>0</td>\n",
              "      <td>0</td>\n",
              "      <td>0</td>\n",
              "      <td>0</td>\n",
              "      <td>0</td>\n",
              "      <td>2</td>\n",
              "    </tr>\n",
              "    <tr>\n",
              "      <th>2</th>\n",
              "      <td>2785</td>\n",
              "      <td>155</td>\n",
              "      <td>18</td>\n",
              "      <td>242</td>\n",
              "      <td>118</td>\n",
              "      <td>3090</td>\n",
              "      <td>238</td>\n",
              "      <td>238</td>\n",
              "      <td>122</td>\n",
              "      <td>6211</td>\n",
              "      <td>...</td>\n",
              "      <td>0</td>\n",
              "      <td>0</td>\n",
              "      <td>0</td>\n",
              "      <td>0</td>\n",
              "      <td>0</td>\n",
              "      <td>0</td>\n",
              "      <td>0</td>\n",
              "      <td>0</td>\n",
              "      <td>0</td>\n",
              "      <td>2</td>\n",
              "    </tr>\n",
              "    <tr>\n",
              "      <th>3</th>\n",
              "      <td>2595</td>\n",
              "      <td>45</td>\n",
              "      <td>2</td>\n",
              "      <td>153</td>\n",
              "      <td>-1</td>\n",
              "      <td>391</td>\n",
              "      <td>220</td>\n",
              "      <td>234</td>\n",
              "      <td>150</td>\n",
              "      <td>6172</td>\n",
              "      <td>...</td>\n",
              "      <td>0</td>\n",
              "      <td>0</td>\n",
              "      <td>0</td>\n",
              "      <td>0</td>\n",
              "      <td>0</td>\n",
              "      <td>0</td>\n",
              "      <td>0</td>\n",
              "      <td>0</td>\n",
              "      <td>0</td>\n",
              "      <td>5</td>\n",
              "    </tr>\n",
              "    <tr>\n",
              "      <th>4</th>\n",
              "      <td>2579</td>\n",
              "      <td>132</td>\n",
              "      <td>6</td>\n",
              "      <td>300</td>\n",
              "      <td>-15</td>\n",
              "      <td>67</td>\n",
              "      <td>230</td>\n",
              "      <td>237</td>\n",
              "      <td>140</td>\n",
              "      <td>6031</td>\n",
              "      <td>...</td>\n",
              "      <td>0</td>\n",
              "      <td>0</td>\n",
              "      <td>0</td>\n",
              "      <td>0</td>\n",
              "      <td>0</td>\n",
              "      <td>0</td>\n",
              "      <td>0</td>\n",
              "      <td>0</td>\n",
              "      <td>0</td>\n",
              "      <td>2</td>\n",
              "    </tr>\n",
              "  </tbody>\n",
              "</table>\n",
              "<p>5 rows × 55 columns</p>\n",
              "</div>\n",
              "      <button class=\"colab-df-convert\" onclick=\"convertToInteractive('df-110c041a-2a44-4212-b07f-4f0cdf787606')\"\n",
              "              title=\"Convert this dataframe to an interactive table.\"\n",
              "              style=\"display:none;\">\n",
              "        \n",
              "  <svg xmlns=\"http://www.w3.org/2000/svg\" height=\"24px\"viewBox=\"0 0 24 24\"\n",
              "       width=\"24px\">\n",
              "    <path d=\"M0 0h24v24H0V0z\" fill=\"none\"/>\n",
              "    <path d=\"M18.56 5.44l.94 2.06.94-2.06 2.06-.94-2.06-.94-.94-2.06-.94 2.06-2.06.94zm-11 1L8.5 8.5l.94-2.06 2.06-.94-2.06-.94L8.5 2.5l-.94 2.06-2.06.94zm10 10l.94 2.06.94-2.06 2.06-.94-2.06-.94-.94-2.06-.94 2.06-2.06.94z\"/><path d=\"M17.41 7.96l-1.37-1.37c-.4-.4-.92-.59-1.43-.59-.52 0-1.04.2-1.43.59L10.3 9.45l-7.72 7.72c-.78.78-.78 2.05 0 2.83L4 21.41c.39.39.9.59 1.41.59.51 0 1.02-.2 1.41-.59l7.78-7.78 2.81-2.81c.8-.78.8-2.07 0-2.86zM5.41 20L4 18.59l7.72-7.72 1.47 1.35L5.41 20z\"/>\n",
              "  </svg>\n",
              "      </button>\n",
              "      \n",
              "  <style>\n",
              "    .colab-df-container {\n",
              "      display:flex;\n",
              "      flex-wrap:wrap;\n",
              "      gap: 12px;\n",
              "    }\n",
              "\n",
              "    .colab-df-convert {\n",
              "      background-color: #E8F0FE;\n",
              "      border: none;\n",
              "      border-radius: 50%;\n",
              "      cursor: pointer;\n",
              "      display: none;\n",
              "      fill: #1967D2;\n",
              "      height: 32px;\n",
              "      padding: 0 0 0 0;\n",
              "      width: 32px;\n",
              "    }\n",
              "\n",
              "    .colab-df-convert:hover {\n",
              "      background-color: #E2EBFA;\n",
              "      box-shadow: 0px 1px 2px rgba(60, 64, 67, 0.3), 0px 1px 3px 1px rgba(60, 64, 67, 0.15);\n",
              "      fill: #174EA6;\n",
              "    }\n",
              "\n",
              "    [theme=dark] .colab-df-convert {\n",
              "      background-color: #3B4455;\n",
              "      fill: #D2E3FC;\n",
              "    }\n",
              "\n",
              "    [theme=dark] .colab-df-convert:hover {\n",
              "      background-color: #434B5C;\n",
              "      box-shadow: 0px 1px 3px 1px rgba(0, 0, 0, 0.15);\n",
              "      filter: drop-shadow(0px 1px 2px rgba(0, 0, 0, 0.3));\n",
              "      fill: #FFFFFF;\n",
              "    }\n",
              "  </style>\n",
              "\n",
              "      <script>\n",
              "        const buttonEl =\n",
              "          document.querySelector('#df-110c041a-2a44-4212-b07f-4f0cdf787606 button.colab-df-convert');\n",
              "        buttonEl.style.display =\n",
              "          google.colab.kernel.accessAllowed ? 'block' : 'none';\n",
              "\n",
              "        async function convertToInteractive(key) {\n",
              "          const element = document.querySelector('#df-110c041a-2a44-4212-b07f-4f0cdf787606');\n",
              "          const dataTable =\n",
              "            await google.colab.kernel.invokeFunction('convertToInteractive',\n",
              "                                                     [key], {});\n",
              "          if (!dataTable) return;\n",
              "\n",
              "          const docLinkHtml = 'Like what you see? Visit the ' +\n",
              "            '<a target=\"_blank\" href=https://colab.research.google.com/notebooks/data_table.ipynb>data table notebook</a>'\n",
              "            + ' to learn more about interactive tables.';\n",
              "          element.innerHTML = '';\n",
              "          dataTable['output_type'] = 'display_data';\n",
              "          await google.colab.output.renderOutput(dataTable, element);\n",
              "          const docLink = document.createElement('div');\n",
              "          docLink.innerHTML = docLinkHtml;\n",
              "          element.appendChild(docLink);\n",
              "        }\n",
              "      </script>\n",
              "    </div>\n",
              "  </div>\n",
              "  "
            ]
          },
          "metadata": {},
          "execution_count": 36
        }
      ]
    },
    {
      "cell_type": "code",
      "source": [
        "train_X = data1.iloc[:, :-1].to_numpy()\n",
        "train_Y = data1.iloc[:, -1].to_numpy() - 1"
      ],
      "metadata": {
        "id": "HBLXNcl_XG6G"
      },
      "execution_count": 9,
      "outputs": []
    },
    {
      "cell_type": "code",
      "source": [
        "train_X"
      ],
      "metadata": {
        "colab": {
          "base_uri": "https://localhost:8080/"
        },
        "id": "KwtumEDsZn93",
        "outputId": "344c729d-5446-4cec-e080-e32e879aa010"
      },
      "execution_count": 14,
      "outputs": [
        {
          "output_type": "execute_result",
          "data": {
            "text/plain": [
              "array([[2590,   56,    2, ...,    0,    0,    0],\n",
              "       [2804,  139,    9, ...,    0,    0,    0],\n",
              "       [2785,  155,   18, ...,    0,    0,    0],\n",
              "       ...,\n",
              "       [2386,  159,   17, ...,    0,    0,    0],\n",
              "       [2384,  170,   15, ...,    0,    0,    0],\n",
              "       [2383,  165,   13, ...,    0,    0,    0]])"
            ]
          },
          "metadata": {},
          "execution_count": 14
        }
      ]
    },
    {
      "cell_type": "code",
      "source": [
        "train_Y = to_categorical(train_Y)"
      ],
      "metadata": {
        "id": "vxGfK1h5Zp6-"
      },
      "execution_count": 10,
      "outputs": []
    },
    {
      "cell_type": "code",
      "source": [],
      "metadata": {
        "id": "cEsUO2x4rMJ3"
      },
      "execution_count": null,
      "outputs": []
    },
    {
      "cell_type": "code",
      "source": [
        "model = keras.Sequential([\n",
        "    keras.layers.Dense(256, activation='relu', input_dim=train_X.shape[1]),\n",
        "    keras.layers.Dense(128, activation='relu'),\n",
        "    keras.layers.Dense(units=32, activation='relu'),\n",
        "    keras.layers.Dense(7, activation='softmax')\n",
        "])\n",
        "\n",
        "# compile the model\n",
        "model.compile(optimizer='adam',\n",
        "              loss='categorical_crossentropy',\n",
        "              metrics=['accuracy'])\n",
        "\n",
        "\n",
        "model.fit(train_X, train_Y, epochs=10, batch_size=128)\n",
        "\n",
        "\n",
        "_, accuracy = model.evaluate(train_X, train_Y)\n",
        "print('Accuracy: %.2f' % (accuracy*100))\n"
      ],
      "metadata": {
        "colab": {
          "base_uri": "https://localhost:8080/"
        },
        "id": "vmUoWLkFe7Yg",
        "outputId": "22f10cbb-53f6-4b5b-d2ef-871c47009edf"
      },
      "execution_count": 22,
      "outputs": [
        {
          "output_type": "stream",
          "name": "stdout",
          "text": [
            "Epoch 1/10\n",
            "4540/4540 [==============================] - 31s 7ms/step - loss: 1.6771 - accuracy: 0.6199\n",
            "Epoch 2/10\n",
            "4540/4540 [==============================] - 27s 6ms/step - loss: 0.6884 - accuracy: 0.7044\n",
            "Epoch 3/10\n",
            "4540/4540 [==============================] - 29s 6ms/step - loss: 0.6365 - accuracy: 0.7255\n",
            "Epoch 4/10\n",
            "4540/4540 [==============================] - 27s 6ms/step - loss: 0.5889 - accuracy: 0.7475\n",
            "Epoch 5/10\n",
            "4540/4540 [==============================] - 30s 7ms/step - loss: 0.5454 - accuracy: 0.7666\n",
            "Epoch 6/10\n",
            "4540/4540 [==============================] - 28s 6ms/step - loss: 0.5156 - accuracy: 0.7802\n",
            "Epoch 7/10\n",
            "4540/4540 [==============================] - 26s 6ms/step - loss: 0.4949 - accuracy: 0.7896\n",
            "Epoch 8/10\n",
            "4540/4540 [==============================] - 24s 5ms/step - loss: 0.4784 - accuracy: 0.7970\n",
            "Epoch 9/10\n",
            "4540/4540 [==============================] - 28s 6ms/step - loss: 0.4650 - accuracy: 0.8028\n",
            "Epoch 10/10\n",
            "4540/4540 [==============================] - 22s 5ms/step - loss: 0.4565 - accuracy: 0.8063\n",
            "18157/18157 [==============================] - 36s 2ms/step - loss: 0.4355 - accuracy: 0.8176\n",
            "Accuracy: 81.76\n"
          ]
        }
      ]
    },
    {
      "cell_type": "code",
      "source": [
        "data1=data1.iloc[:10000]"
      ],
      "metadata": {
        "id": "qvKkK6WH2Q9d"
      },
      "execution_count": 37,
      "outputs": []
    },
    {
      "cell_type": "code",
      "source": [
        "val_data = data1.sample(frac=0.2, random_state=1337)\n",
        "train_data = data1.drop(val_data.index)"
      ],
      "metadata": {
        "id": "pm_bGa25ztu5"
      },
      "execution_count": 38,
      "outputs": []
    },
    {
      "cell_type": "code",
      "source": [
        "print(\n",
        "    \"Using %d samples for training and %d for validation\"\n",
        "     % (len(train_data), len(val_data))\n",
        ")"
      ],
      "metadata": {
        "colab": {
          "base_uri": "https://localhost:8080/"
        },
        "id": "wBEBL3a2z6a2",
        "outputId": "edce5dd7-5325-417c-dced-c0a268c0626a"
      },
      "execution_count": 13,
      "outputs": [
        {
          "output_type": "stream",
          "name": "stdout",
          "text": [
            "Using 8000 samples for training and 2000 for validation\n"
          ]
        }
      ]
    },
    {
      "cell_type": "code",
      "source": [
        "def dataframe_to_dataset(dataframe):\n",
        "    dataframe = dataframe.copy()\n",
        "    labels = dataframe.pop(\"Cover_Type\")\n",
        "    labels=to_categorical(labels)\n",
        "    ds = tf.data.Dataset.from_tensor_slices((dict(dataframe), labels))\n",
        "    ds = ds.shuffle(buffer_size=len(dataframe))\n",
        "    return ds"
      ],
      "metadata": {
        "id": "jJ1niVBp06Mu"
      },
      "execution_count": 39,
      "outputs": []
    },
    {
      "cell_type": "code",
      "source": [
        "train_ds = dataframe_to_dataset(train_data)\n",
        "val_ds = dataframe_to_dataset(val_data)"
      ],
      "metadata": {
        "id": "v8rwQZ4L1APZ"
      },
      "execution_count": 40,
      "outputs": []
    },
    {
      "cell_type": "code",
      "source": [
        "train_ds = train_ds.batch(32)\n",
        "val_ds = val_ds.batch(32)"
      ],
      "metadata": {
        "id": "a584gm8i1MYJ"
      },
      "execution_count": 41,
      "outputs": []
    },
    {
      "cell_type": "code",
      "source": [
        "feature_space = FeatureSpace(\n",
        "    features={\n",
        "        # Categorical features encoded as integers\n",
        "        \"Slope\": \"integer_categorical\",\n",
        "        \"Wilderness_Area1\":\"integer_categorical\",\n",
        "        \"Wilderness_Area2\":\"integer_categorical\",\n",
        "        \"Wilderness_Area3\":\"integer_categorical\",\n",
        "        \"Wilderness_Area4\":\"integer_categorical\",\n",
        "        \"Soil_Type1\": \"integer_categorical\",\n",
        "        \"Soil_Type2\": \"integer_categorical\",\n",
        "        \"Soil_Type3\": \"integer_categorical\",\n",
        "        \"Soil_Type4\": \"integer_categorical\",\n",
        "        \"Soil_Type5\": \"integer_categorical\",\n",
        "        \"Soil_Type6\": \"integer_categorical\",\n",
        "        \"Soil_Type7\": \"integer_categorical\",\n",
        "        \"Soil_Type8\": \"integer_categorical\",\n",
        "        \"Soil_Type9\": \"integer_categorical\",\n",
        "        \"Soil_Type10\": \"integer_categorical\",\n",
        "        \"Soil_Type11\": \"integer_categorical\",\n",
        "        \"Soil_Type12\": \"integer_categorical\",\n",
        "        \"Soil_Type13\": \"integer_categorical\",\n",
        "        \"Soil_Type14\": \"integer_categorical\",\n",
        "        \"Soil_Type15\": \"integer_categorical\",\n",
        "        \"Soil_Type16\": \"integer_categorical\",\n",
        "        \"Soil_Type17\": \"integer_categorical\",\n",
        "        \"Soil_Type18\": \"integer_categorical\",\n",
        "        \"Soil_Type19\": \"integer_categorical\",\n",
        "        \"Soil_Type20\": \"integer_categorical\",\n",
        "        \"Soil_Type21\": \"integer_categorical\",\n",
        "        \"Soil_Type22\": \"integer_categorical\",\n",
        "        \"Soil_Type23\": \"integer_categorical\",\n",
        "        \"Soil_Type24\": \"integer_categorical\",\n",
        "        \"Soil_Type25\": \"integer_categorical\",\n",
        "        \"Soil_Type26\": \"integer_categorical\",\n",
        "        \"Soil_Type27\": \"integer_categorical\",\n",
        "        \"Soil_Type28\": \"integer_categorical\",\n",
        "        \"Soil_Type29\": \"integer_categorical\",\n",
        "        \"Soil_Type30\": \"integer_categorical\",\n",
        "        \"Soil_Type31\": \"integer_categorical\",\n",
        "        \"Soil_Type32\": \"integer_categorical\",\n",
        "        \"Soil_Type33\": \"integer_categorical\",\n",
        "        \"Soil_Type34\": \"integer_categorical\",\n",
        "        \"Soil_Type35\": \"integer_categorical\",\n",
        "        \"Soil_Type36\": \"integer_categorical\",\n",
        "        \"Soil_Type37\": \"integer_categorical\",\n",
        "        \"Soil_Type38\": \"integer_categorical\",\n",
        "        \"Soil_Type39\": \"integer_categorical\",\n",
        "        \"Soil_Type40\": \"integer_categorical\",\n",
        "\n",
        "        # Numerical features to normalize\n",
        "        \"Elevation\": \"float_normalized\",\n",
        "        \"Aspect\": \"float_normalized\",\n",
        "        \"Horizontal_Distance_To_Hydrology\": \"float_normalized\",\n",
        "        \"Vertical_Distance_To_Hydrology\": \"float_normalized\",\n",
        "        \"Horizontal_Distance_To_Roadways\": \"float_normalized\",\n",
        "        \"Hillshade_9am\": \"float_normalized\",\n",
        "        \"Hillshade_Noon\": \"float_normalized\",\n",
        "        \"Hillshade_3pm\": \"float_normalized\",\n",
        "        \"Horizontal_Distance_To_Fire_Points\": \"float_normalized\",\n",
        "    },\n",
        "    # Our utility will one-hot encode all categorical\n",
        "    # features and concat all features into a single\n",
        "    # vector (one vector per sample).\n",
        "    output_mode=\"concat\",\n",
        ")"
      ],
      "metadata": {
        "id": "-tqpecII1RHT"
      },
      "execution_count": 42,
      "outputs": []
    },
    {
      "cell_type": "code",
      "source": [
        "train_ds_with_no_labels = train_ds.map(lambda x, _: x)\n",
        "feature_space.adapt(train_ds_with_no_labels)"
      ],
      "metadata": {
        "id": "d07EaNQK2udV"
      },
      "execution_count": 43,
      "outputs": []
    },
    {
      "cell_type": "code",
      "source": [
        "for x, _ in train_ds.take(1):\n",
        "    preprocessed_x = feature_space(x)\n",
        "    print(\"preprocessed_x.shape:\", preprocessed_x.shape)\n",
        "    print(\"preprocessed_x.dtype:\", preprocessed_x.dtype)"
      ],
      "metadata": {
        "colab": {
          "base_uri": "https://localhost:8080/"
        },
        "id": "8soYc_n83IeP",
        "outputId": "9df30a40-e616-4ef5-8472-f6920da42e11"
      },
      "execution_count": 44,
      "outputs": [
        {
          "output_type": "stream",
          "name": "stdout",
          "text": [
            "preprocessed_x.shape: (32, 189)\n",
            "preprocessed_x.dtype: <dtype: 'float32'>\n"
          ]
        }
      ]
    },
    {
      "cell_type": "code",
      "source": [
        "preprocessed_train_ds = train_ds.map(\n",
        "    lambda x, y: (feature_space(x), y), num_parallel_calls=tf.data.AUTOTUNE\n",
        ")\n",
        "preprocessed_train_ds = preprocessed_train_ds.prefetch(tf.data.AUTOTUNE)\n",
        "\n",
        "preprocessed_val_ds = val_ds.map(\n",
        "    lambda x, y: (feature_space(x), y), num_parallel_calls=tf.data.AUTOTUNE\n",
        ")\n",
        "preprocessed_val_ds = preprocessed_val_ds.prefetch(tf.data.AUTOTUNE)"
      ],
      "metadata": {
        "id": "S7ReyibE6zC2"
      },
      "execution_count": 45,
      "outputs": []
    },
    {
      "cell_type": "code",
      "source": [
        "dict_inputs = feature_space.get_inputs()\n",
        "encoded_features = feature_space.get_encoded_features()"
      ],
      "metadata": {
        "id": "KgMFKtcE3Ncv"
      },
      "execution_count": 46,
      "outputs": []
    },
    {
      "cell_type": "code",
      "source": [
        "x = keras.layers.Dense(512, activation=\"relu\")(encoded_features)\n",
        "#x = keras.layers.Dropout(0.5)(x)\n",
        "x = keras.layers.Dense(256, activation=\"relu\")(x)\n",
        "#x = keras.layers.Dropout(0.5)(x)\n",
        "x = keras.layers.Dense(128, activation=\"relu\")(x)\n",
        "#x = keras.layers.Dropout(0.5)(x)\n",
        "x = keras.layers.Dense(64, activation=\"relu\")(x)\n",
        "#x = keras.layers.Dropout(0.5)(x)\n",
        "x = keras.layers.Dense(32, activation=\"relu\")(x)\n",
        "#x = keras.layers.Dropout(0.5)(x)\n",
        "x = keras.layers.Dense(16, activation=\"relu\")(x)\n",
        "#x = keras.layers.Dropout(0.5)(x)\n",
        "predictions = keras.layers.Dense(8, activation=\"softmax\")(x)\n"
      ],
      "metadata": {
        "id": "wKoSW9O-4tOZ"
      },
      "execution_count": 62,
      "outputs": []
    },
    {
      "cell_type": "code",
      "source": [
        "training_model = keras.Model(inputs=encoded_features, outputs=predictions)\n",
        "training_model.compile(\n",
        "    optimizer=\"adam\", loss=\"categorical_crossentropy\", metrics=[\"accuracy\"]\n",
        ")"
      ],
      "metadata": {
        "id": "vo2JKjUU6DfL"
      },
      "execution_count": 63,
      "outputs": []
    },
    {
      "cell_type": "code",
      "source": [
        "inference_model = keras.Model(inputs=dict_inputs, outputs=predictions)"
      ],
      "metadata": {
        "id": "yuKBX6Z36RKI"
      },
      "execution_count": 64,
      "outputs": []
    },
    {
      "cell_type": "code",
      "source": [
        "history= training_model.fit(\n",
        "    preprocessed_train_ds, epochs=30, validation_data=preprocessed_val_ds, verbose=2\n",
        ")"
      ],
      "metadata": {
        "colab": {
          "base_uri": "https://localhost:8080/"
        },
        "id": "EAfPgoYv65fe",
        "outputId": "95e8c41c-018c-4b38-df87-01239aa517bf"
      },
      "execution_count": 65,
      "outputs": [
        {
          "output_type": "stream",
          "name": "stdout",
          "text": [
            "Epoch 1/30\n",
            "250/250 - 6s - loss: 1.1046 - accuracy: 0.5567 - val_loss: 0.7608 - val_accuracy: 0.6840 - 6s/epoch - 24ms/step\n",
            "Epoch 2/30\n",
            "250/250 - 3s - loss: 0.7560 - accuracy: 0.6715 - val_loss: 0.6923 - val_accuracy: 0.7010 - 3s/epoch - 12ms/step\n",
            "Epoch 3/30\n",
            "250/250 - 3s - loss: 0.7081 - accuracy: 0.6988 - val_loss: 0.6763 - val_accuracy: 0.7020 - 3s/epoch - 13ms/step\n",
            "Epoch 4/30\n",
            "250/250 - 5s - loss: 0.6628 - accuracy: 0.7212 - val_loss: 0.6390 - val_accuracy: 0.7345 - 5s/epoch - 19ms/step\n",
            "Epoch 5/30\n",
            "250/250 - 4s - loss: 0.6396 - accuracy: 0.7290 - val_loss: 0.6112 - val_accuracy: 0.7480 - 4s/epoch - 16ms/step\n",
            "Epoch 6/30\n",
            "250/250 - 3s - loss: 0.6084 - accuracy: 0.7419 - val_loss: 0.6685 - val_accuracy: 0.7300 - 3s/epoch - 12ms/step\n",
            "Epoch 7/30\n",
            "250/250 - 3s - loss: 0.5898 - accuracy: 0.7574 - val_loss: 0.5844 - val_accuracy: 0.7550 - 3s/epoch - 14ms/step\n",
            "Epoch 8/30\n",
            "250/250 - 5s - loss: 0.5584 - accuracy: 0.7638 - val_loss: 0.5892 - val_accuracy: 0.7580 - 5s/epoch - 20ms/step\n",
            "Epoch 9/30\n",
            "250/250 - 4s - loss: 0.5394 - accuracy: 0.7740 - val_loss: 0.5818 - val_accuracy: 0.7585 - 4s/epoch - 15ms/step\n",
            "Epoch 10/30\n",
            "250/250 - 4s - loss: 0.5254 - accuracy: 0.7820 - val_loss: 0.6111 - val_accuracy: 0.7340 - 4s/epoch - 15ms/step\n",
            "Epoch 11/30\n",
            "250/250 - 3s - loss: 0.5022 - accuracy: 0.7940 - val_loss: 0.5350 - val_accuracy: 0.7725 - 3s/epoch - 12ms/step\n",
            "Epoch 12/30\n",
            "250/250 - 6s - loss: 0.4808 - accuracy: 0.8001 - val_loss: 0.5656 - val_accuracy: 0.7700 - 6s/epoch - 25ms/step\n",
            "Epoch 13/30\n",
            "250/250 - 3s - loss: 0.4653 - accuracy: 0.8064 - val_loss: 0.5290 - val_accuracy: 0.7790 - 3s/epoch - 12ms/step\n",
            "Epoch 14/30\n",
            "250/250 - 3s - loss: 0.4372 - accuracy: 0.8167 - val_loss: 0.5450 - val_accuracy: 0.7760 - 3s/epoch - 12ms/step\n",
            "Epoch 15/30\n",
            "250/250 - 5s - loss: 0.4352 - accuracy: 0.8219 - val_loss: 0.5610 - val_accuracy: 0.7660 - 5s/epoch - 20ms/step\n",
            "Epoch 16/30\n",
            "250/250 - 3s - loss: 0.4199 - accuracy: 0.8274 - val_loss: 0.5359 - val_accuracy: 0.7850 - 3s/epoch - 13ms/step\n",
            "Epoch 17/30\n",
            "250/250 - 3s - loss: 0.4108 - accuracy: 0.8341 - val_loss: 0.5701 - val_accuracy: 0.7750 - 3s/epoch - 12ms/step\n",
            "Epoch 18/30\n",
            "250/250 - 3s - loss: 0.3980 - accuracy: 0.8397 - val_loss: 0.6003 - val_accuracy: 0.7770 - 3s/epoch - 14ms/step\n",
            "Epoch 19/30\n",
            "250/250 - 5s - loss: 0.3750 - accuracy: 0.8466 - val_loss: 0.5338 - val_accuracy: 0.7845 - 5s/epoch - 20ms/step\n",
            "Epoch 20/30\n",
            "250/250 - 3s - loss: 0.3690 - accuracy: 0.8519 - val_loss: 0.5570 - val_accuracy: 0.7875 - 3s/epoch - 12ms/step\n",
            "Epoch 21/30\n",
            "250/250 - 3s - loss: 0.3454 - accuracy: 0.8604 - val_loss: 0.5201 - val_accuracy: 0.7990 - 3s/epoch - 12ms/step\n",
            "Epoch 22/30\n",
            "250/250 - 4s - loss: 0.3415 - accuracy: 0.8601 - val_loss: 0.5703 - val_accuracy: 0.7940 - 4s/epoch - 15ms/step\n",
            "Epoch 23/30\n",
            "250/250 - 5s - loss: 0.3319 - accuracy: 0.8699 - val_loss: 0.5923 - val_accuracy: 0.7755 - 5s/epoch - 20ms/step\n",
            "Epoch 24/30\n",
            "250/250 - 3s - loss: 0.3142 - accuracy: 0.8739 - val_loss: 0.6119 - val_accuracy: 0.7880 - 3s/epoch - 12ms/step\n",
            "Epoch 25/30\n",
            "250/250 - 5s - loss: 0.3154 - accuracy: 0.8741 - val_loss: 0.5716 - val_accuracy: 0.8065 - 5s/epoch - 21ms/step\n",
            "Epoch 26/30\n",
            "250/250 - 3s - loss: 0.2929 - accuracy: 0.8840 - val_loss: 0.6317 - val_accuracy: 0.7815 - 3s/epoch - 13ms/step\n",
            "Epoch 27/30\n",
            "250/250 - 3s - loss: 0.2777 - accuracy: 0.8900 - val_loss: 0.5649 - val_accuracy: 0.8010 - 3s/epoch - 12ms/step\n",
            "Epoch 28/30\n",
            "250/250 - 4s - loss: 0.2660 - accuracy: 0.9000 - val_loss: 0.5494 - val_accuracy: 0.8155 - 4s/epoch - 17ms/step\n",
            "Epoch 29/30\n",
            "250/250 - 4s - loss: 0.2580 - accuracy: 0.9003 - val_loss: 0.6215 - val_accuracy: 0.7770 - 4s/epoch - 18ms/step\n",
            "Epoch 30/30\n",
            "250/250 - 3s - loss: 0.2479 - accuracy: 0.9020 - val_loss: 0.5845 - val_accuracy: 0.8045 - 3s/epoch - 13ms/step\n"
          ]
        }
      ]
    },
    {
      "cell_type": "code",
      "source": [
        "fig, ax = plt.subplots(2,1)\n",
        "ax[0].plot(history.history['loss'], color='b', label=\"Training Loss\")\n",
        "ax[0].plot(history.history['val_loss'], color='r', label=\"Validation Loss\",axes =ax[0])\n",
        "legend = ax[0].legend(loc='best', shadow=True)\n",
        "\n",
        "ax[1].plot(history.history['accuracy'], color='b', label=\"Training Accuracy\")\n",
        "ax[1].plot(history.history['val_accuracy'], color='r',label=\"Validation Accuracy\")\n",
        "legend = ax[1].legend(loc='best', shadow=True)"
      ],
      "metadata": {
        "colab": {
          "base_uri": "https://localhost:8080/",
          "height": 265
        },
        "id": "SYSIQ67R_B9x",
        "outputId": "cdcdd842-16fb-45e4-b404-b002ba1fcc85"
      },
      "execution_count": 66,
      "outputs": [
        {
          "output_type": "display_data",
          "data": {
            "text/plain": [
              "<Figure size 432x288 with 2 Axes>"
            ],
            "image/png": "[encoded data removed]"
          },
          "metadata": {
            "needs_background": "light"
          }
        }
      ]
    }
  ]
}